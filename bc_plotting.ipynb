{
 "cells": [
  {
   "cell_type": "code",
   "execution_count": 24,
   "metadata": {},
   "outputs": [],
   "source": [
    "import h5py\n",
    "import ROOT\n",
    "import numpy as np\n",
    "import pandas as pd"
   ]
  },
  {
   "cell_type": "code",
   "execution_count": 3,
   "metadata": {},
   "outputs": [],
   "source": [
    "b_jet = pd.read_csv('b_jet.csv', usecols = ['DL1r_pb', 'DL1r_pc']) #only extract these two columns\n",
    "c_jet = pd.read_csv('c_jet.csv', usecols = ['DL1r_pb', 'DL1r_pc'])"
   ]
  },
  {
   "cell_type": "code",
   "execution_count": 4,
   "metadata": {},
   "outputs": [],
   "source": [
    "np_b_jet = b_jet.to_numpy()\n",
    "bjet_c_over_b = np.divide(np_b_jet[:,0], np_b_jet[:,1]) #pc/pb discriminant score for all b-jet\n",
    "\n",
    "np_c_jet = c_jet.to_numpy()\n",
    "cjet_c_over_b = np.divide(np_c_jet[:,0], np_c_jet[:,1]) #pc/pb discriminant score for all c-jet"
   ]
  },
  {
   "cell_type": "code",
   "execution_count": 5,
   "metadata": {},
   "outputs": [
    {
     "name": "stdout",
     "output_type": "stream",
     "text": [
      "3578937 769322\n",
      "2.221327545769415\n"
     ]
    }
   ],
   "source": [
    "print(bjet_c_over_b.shape[0], cjet_c_over_b.shape[0])\n",
    "print(bjet_c_over_b[0])"
   ]
  },
  {
   "cell_type": "code",
   "execution_count": 25,
   "metadata": {},
   "outputs": [
    {
     "ename": "TypeError",
     "evalue": "none of the 2 overloaded methods succeeded. Full details:\n  void TH1::FillN(int ntimes, const double* x, const double* w, int stride = 1) =>\n    TypeError: takes at least 3 arguments (2 given)\n  void TH1::FillN(int, const double*, const double*, const double*, int) =>\n    TypeError: takes at least 5 arguments (2 given)",
     "output_type": "error",
     "traceback": [
      "\u001b[0;31m---------------------------------------------------------------------------\u001b[0m",
      "\u001b[0;31mTypeError\u001b[0m                                 Traceback (most recent call last)",
      "\u001b[1;32m/home/rzmo0924/Week3_sample/bc_plotting.ipynb Cell 5'\u001b[0m in \u001b[0;36m<cell line: 10>\u001b[0;34m()\u001b[0m\n\u001b[1;32m      <a href='vscode-notebook-cell://wsl%2Bubuntu-20.04/home/rzmo0924/Week3_sample/bc_plotting.ipynb#ch0000004vscode-remote?line=5'>6</a>\u001b[0m c_c_over_b_plot\u001b[39m.\u001b[39mSetLineColor(\u001b[39m3\u001b[39m)\n\u001b[1;32m      <a href='vscode-notebook-cell://wsl%2Bubuntu-20.04/home/rzmo0924/Week3_sample/bc_plotting.ipynb#ch0000004vscode-remote?line=7'>8</a>\u001b[0m b_len, c_len \u001b[39m=\u001b[39m bjet_c_over_b\u001b[39m.\u001b[39mshape[\u001b[39m0\u001b[39m], cjet_c_over_b\u001b[39m.\u001b[39mshape[\u001b[39m0\u001b[39m]\n\u001b[0;32m---> <a href='vscode-notebook-cell://wsl%2Bubuntu-20.04/home/rzmo0924/Week3_sample/bc_plotting.ipynb#ch0000004vscode-remote?line=9'>10</a>\u001b[0m b_c_over_b_plot\u001b[39m.\u001b[39;49mFillN(b_len, bjet_c_over_b)\n\u001b[1;32m     <a href='vscode-notebook-cell://wsl%2Bubuntu-20.04/home/rzmo0924/Week3_sample/bc_plotting.ipynb#ch0000004vscode-remote?line=10'>11</a>\u001b[0m c_c_over_b_plot\u001b[39m.\u001b[39mFillN(c_len, cjet_c_over_b, \u001b[39m1\u001b[39m\u001b[39m/\u001b[39mc_len\u001b[39m*\u001b[39mnp\u001b[39m.\u001b[39mones(c_len))\n\u001b[1;32m     <a href='vscode-notebook-cell://wsl%2Bubuntu-20.04/home/rzmo0924/Week3_sample/bc_plotting.ipynb#ch0000004vscode-remote?line=12'>13</a>\u001b[0m \u001b[39m#b_c_over_b_plot.Scale(1/bjet_c_over_b.shape[0])\u001b[39;00m\n\u001b[1;32m     <a href='vscode-notebook-cell://wsl%2Bubuntu-20.04/home/rzmo0924/Week3_sample/bc_plotting.ipynb#ch0000004vscode-remote?line=13'>14</a>\u001b[0m \u001b[39m#c_c_over_b_plot.Scale(1/cjet_c_over_b.shape[0])\u001b[39;00m\n",
      "\u001b[0;31mTypeError\u001b[0m: none of the 2 overloaded methods succeeded. Full details:\n  void TH1::FillN(int ntimes, const double* x, const double* w, int stride = 1) =>\n    TypeError: takes at least 3 arguments (2 given)\n  void TH1::FillN(int, const double*, const double*, const double*, int) =>\n    TypeError: takes at least 5 arguments (2 given)"
     ]
    },
    {
     "name": "stderr",
     "output_type": "stream",
     "text": [
      "Warning in <TROOT::Append>: Replacing existing TH1: b-jet (Potential memory leak).\n",
      "Warning in <TROOT::Append>: Replacing existing TH1: c-jet (Potential memory leak).\n"
     ]
    }
   ],
   "source": [
    "#Draw pc/pb discriminant score distribution \n",
    "b_c_over_b_plot = ROOT.TH1D(\"b-jet\",\"pc/pb distribution\",20,0,25)\n",
    "c_c_over_b_plot = ROOT.TH1D(\"c-jet\",\"pc/pb distribution\",20,0,25)\n",
    "\n",
    "b_c_over_b_plot.SetLineColor(2)\n",
    "c_c_over_b_plot.SetLineColor(3)\n",
    "\n",
    "b_len, c_len = bjet_c_over_b.shape[0], cjet_c_over_b.shape[0]\n",
    "\n",
    "b_c_over_b_plot.FillN(b_len, bjet_c_over_b)\n",
    "c_c_over_b_plot.FillN(c_len, cjet_c_over_b, 1/c_len*np.ones(c_len))\n",
    "\n",
    "#b_c_over_b_plot.Scale(1/bjet_c_over_b.shape[0])\n",
    "#c_c_over_b_plot.Scale(1/cjet_c_over_b.shape[0])\n",
    "\n",
    "stack = ROOT.THStack(\"stack\", \"pc/pb score distribution for b- and c-jet\")\n",
    "stack.Add(b_c_over_b_plot)\n",
    "stack.Add(c_c_over_b_plot)\n",
    "c = ROOT.TCanvas(\"myCanvasName\",\"The Canvas Title\",800,600)\n",
    "stack.Draw(\"nostack\")\n",
    "stack.GetYaxis().SetTitle(\"Number of events\")\n",
    "stack.GetXaxis().SetTitle(\"pc/pb score\")\n",
    "c.Draw()\n",
    "legend = ROOT.TLegend(0.7, 0.7 ,0.82 ,0.82)\n",
    "legend.AddEntry(b_c_over_b_plot, \"b-jet\")\n",
    "legend.AddEntry(c_c_over_b_plot, \"c-jet\")\n",
    "legend.Draw()"
   ]
  }
 ],
 "metadata": {
  "kernelspec": {
   "display_name": "Python 3.10.5 ('root_env')",
   "language": "python",
   "name": "python3"
  },
  "language_info": {
   "codemirror_mode": {
    "name": "ipython",
    "version": 3
   },
   "file_extension": ".py",
   "mimetype": "text/x-python",
   "name": "python",
   "nbconvert_exporter": "python",
   "pygments_lexer": "ipython3",
   "version": "3.10.5"
  },
  "orig_nbformat": 4,
  "vscode": {
   "interpreter": {
    "hash": "b1a144659389e648a5b957898c6efa89c76198ae1f30f3bf974c60560e4a9cdc"
   }
  }
 },
 "nbformat": 4,
 "nbformat_minor": 2
}
