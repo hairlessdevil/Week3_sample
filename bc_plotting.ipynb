{
 "cells": [
  {
   "cell_type": "code",
   "execution_count": 1,
   "metadata": {},
   "outputs": [
    {
     "name": "stdout",
     "output_type": "stream",
     "text": [
      "Welcome to JupyROOT 6.26/04\n"
     ]
    }
   ],
   "source": [
    "import h5py\n",
    "import ROOT\n",
    "import numpy as np\n",
    "import pandas as pd"
   ]
  },
  {
   "cell_type": "code",
   "execution_count": 2,
   "metadata": {},
   "outputs": [],
   "source": [
    "b_jet = pd.read_csv('b_jet.csv', usecols = ['DL1r_pb', 'DL1r_pc']) #only extract these two columns\n",
    "c_jet = pd.read_csv('c_jet.csv', usecols = ['DL1r_pb', 'DL1r_pc'])"
   ]
  },
  {
   "cell_type": "code",
   "execution_count": 14,
   "metadata": {},
   "outputs": [],
   "source": [
    "np_b_jet = b_jet.to_numpy()\n",
    "bjet_c_over_b = np.log(np.divide(np_b_jet[:,1], np_b_jet[:,0])) #pc/pb discriminant score for all b-jet\n",
    "\n",
    "np_c_jet = c_jet.to_numpy()\n",
    "cjet_c_over_b = np.log(np.divide(np_c_jet[:,1], np_c_jet[:,0])) #pc/pb discriminant score for all c-jet"
   ]
  },
  {
   "cell_type": "code",
   "execution_count": 19,
   "metadata": {},
   "outputs": [
    {
     "name": "stdout",
     "output_type": "stream",
     "text": [
      "3578937 769322\n",
      "5.803919115503613 -8.762951453483522\n"
     ]
    }
   ],
   "source": [
    "print(bjet_c_over_b.shape[0], cjet_c_over_b.shape[0])\n",
    "print(np.max(cjet_c_over_b), np.min(cjet_c_over_b))"
   ]
  },
  {
   "cell_type": "code",
   "execution_count": 26,
   "metadata": {},
   "outputs": [
    {
     "name": "stderr",
     "output_type": "stream",
     "text": [
      "Warning in <TROOT::Append>: Replacing existing TH1: b-jet (Potential memory leak).\n",
      "Warning in <TROOT::Append>: Replacing existing TH1: c-jet (Potential memory leak).\n",
      "Warning in <TCanvas::Constructor>: Deleting canvas with same name: myCanvasName\n"
     ]
    },
    {
     "data": {
      "image/png": "[encoded data removed]",
      "text/plain": [
       "<IPython.core.display.Image object>"
      ]
     },
     "metadata": {},
     "output_type": "display_data"
    }
   ],
   "source": [
    "#Draw pc/pb discriminant score distribution \n",
    "b_c_over_b_plot = ROOT.TH1D(\"b-jet\",\"pc/pb distribution\",30,-20,6)\n",
    "c_c_over_b_plot = ROOT.TH1D(\"c-jet\",\"pc/pb distribution\",30,-20,6)\n",
    "\n",
    "b_c_over_b_plot.SetLineColor(2)\n",
    "c_c_over_b_plot.SetLineColor(3)\n",
    "\n",
    "b_len, c_len = bjet_c_over_b.shape[0], cjet_c_over_b.shape[0]\n",
    "\n",
    "b_c_over_b_plot.FillN(b_len, bjet_c_over_b, 1/b_len*np.ones(b_len))\n",
    "c_c_over_b_plot.FillN(c_len, cjet_c_over_b, 1/c_len*np.ones(c_len))\n",
    "\n",
    "#b_c_over_b_plot.Scale(1/bjet_c_over_b.shape[0])\n",
    "#c_c_over_b_plot.Scale(1/cjet_c_over_b.shape[0])\n",
    "\n",
    "stack = ROOT.THStack(\"stack\", \"pc/pb score distribution for b- and c-jet\")\n",
    "stack.Add(b_c_over_b_plot)\n",
    "stack.Add(c_c_over_b_plot)\n",
    "c = ROOT.TCanvas(\"myCanvasName\",\"The Canvas Title\",800,600)\n",
    "stack.Draw(\"nostack\")\n",
    "stack.GetYaxis().SetTitle(\"Number of events\")\n",
    "stack.GetXaxis().SetTitle(\"pc/pb score\")\n",
    "c.Draw()\n",
    "legend = ROOT.TLegend(0.78, 0.6 ,0.90, 0.72)\n",
    "legend.AddEntry(b_c_over_b_plot, \"b-jet\")\n",
    "legend.AddEntry(c_c_over_b_plot, \"c-jet\")\n",
    "legend.Draw()"
   ]
  }
 ],
 "metadata": {
  "kernelspec": {
   "display_name": "Python 3.10.5 ('root_env')",
   "language": "python",
   "name": "python3"
  },
  "language_info": {
   "codemirror_mode": {
    "name": "ipython",
    "version": 3
   },
   "file_extension": ".py",
   "mimetype": "text/x-python",
   "name": "python",
   "nbconvert_exporter": "python",
   "pygments_lexer": "ipython3",
   "version": "3.10.5"
  },
  "orig_nbformat": 4,
  "vscode": {
   "interpreter": {
    "hash": "b1a144659389e648a5b957898c6efa89c76198ae1f30f3bf974c60560e4a9cdc"
   }
  }
 },
 "nbformat": 4,
 "nbformat_minor": 2
}
